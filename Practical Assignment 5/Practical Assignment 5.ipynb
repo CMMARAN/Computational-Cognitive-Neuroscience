{
 "cells": [
  {
   "cell_type": "markdown",
   "metadata": {},
   "source": [
    "# Practical Assignment 5"
   ]
  },
  {
   "cell_type": "markdown",
   "metadata": {},
   "source": [
    "Dennis Verheijden, s4455770 and Joost Besseling, s4756799"
   ]
  },
  {
   "cell_type": "code",
   "execution_count": 27,
   "metadata": {},
   "outputs": [],
   "source": [
    "import numpy as np\n",
    "from chainer import Chain\n",
    "from chainer import reporter\n",
    "import chainer.functions as F\n",
    "import chainer.links as L\n",
    "from chainer import optimizers\n",
    "import matplotlib.pyplot as plt"
   ]
  },
  {
   "cell_type": "markdown",
   "metadata": {},
   "source": [
    "For the whole assignment we will use the environment as specified below:"
   ]
  },
  {
   "cell_type": "code",
   "execution_count": 8,
   "metadata": {},
   "outputs": [],
   "source": [
    "class EvidenceEnv(object):\n",
    "    \"\"\"\n",
    "    Very simple task which only requires evaluating present evidence and does not require evidence integration.\n",
    "    The actor gets a reward when it correctly decides on the ground truth. Ground truth 0/1 determines probabilistically\n",
    "    the number of 0s or 1s as observations\n",
    "    \"\"\"\n",
    "\n",
    "    def __init__(self, n=1, p=0.8):\n",
    "        \"\"\"\n",
    "\n",
    "        Args:\n",
    "            n: number of inputs (pieces of evidence)\n",
    "            p: probability of emitting the right sensation at the input\n",
    "        \"\"\"\n",
    "\n",
    "        self.n_input = n\n",
    "        self.p = p\n",
    "        self.n_action = 2\n",
    "\n",
    "        self._state = None\n",
    "\n",
    "    def reset(self):\n",
    "        \"\"\"\n",
    "        Resets state and generates new observations\n",
    "\n",
    "        Returns:\n",
    "            observation\n",
    "        \"\"\"\n",
    "\n",
    "        # generate state\n",
    "        self._state = np.random.choice(2)\n",
    "\n",
    "        return self.observe()\n",
    "\n",
    "    def step(self, action):\n",
    "        \"\"\"\n",
    "        Executes action, updates state and returns an observation, reward, done (episodic tasks) and optional information\n",
    "\n",
    "        :param action:\n",
    "        :return: observation, reward, done, info\n",
    "        \"\"\"\n",
    "\n",
    "        # return 1 for correct decision and -1 for incorrect decision\n",
    "        reward = (2 * (action == self._state) - 1)\n",
    "\n",
    "        # generate state\n",
    "        self._state = np.random.choice(2)\n",
    "\n",
    "        # we are always done after each decision\n",
    "        done = True\n",
    "\n",
    "        return self.observe(), reward, done, None\n",
    "\n",
    "    def observe(self):\n",
    "        \"\"\"\n",
    "        Helper function which generates an observation based on a state\n",
    "\n",
    "        :return: observation\n",
    "        \"\"\"\n",
    "\n",
    "        # generate associated observations\n",
    "        P = [self.p, 1 - self.p] if self._state == 0 else [1 - self.p, self.p]\n",
    "\n",
    "        return np.random.choice(2, self.n_input, True, P).astype('float32').reshape([1, self.n_input])[0]\n",
    "\n",
    "    def render(self):\n",
    "        \"\"\"\n",
    "        Takes care of rendering\n",
    "\n",
    "        :return:\n",
    "        \"\"\"\n",
    "\n",
    "        # print(\"State: \" + str(self._state))\n",
    "\n",
    "    def close(self):\n",
    "        \"\"\"\n",
    "        Closes the rendering\n",
    "\n",
    "        :return:\n",
    "        \"\"\"\n",
    "        pass\n",
    "\n",
    "    def asint(self,obs):\n",
    "        \"\"\"\n",
    "        Represent input observations as an integer number\n",
    "        :param obs:\n",
    "        :return:\n",
    "        \"\"\"\n",
    "        return int(sum(2**i*b for i, b in enumerate(obs)))\n",
    "\n",
    "    def asbinary(self, i, b_len):\n",
    "        \"\"\"\n",
    "        Represent integer as binary array\n",
    "        :param i: integer\n",
    "        :param b_len: length of binary array\n",
    "        :return:\n",
    "        \"\"\"\n",
    "\n",
    "        # get binary representation from integer\n",
    "        _b = [int(x) for x in list('{0:0b}'.format(i))]\n",
    "        _b = [0 for _ in range(b_len - len(_b))] + _b\n",
    "\n",
    "        return _b\n",
    "\n",
    "    def toBinary(self, obs):\n",
    "        intValue = self.asint(obs)\n",
    "        return self.asbinary(intValue, 2)\n"
   ]
  },
  {
   "cell_type": "markdown",
   "metadata": {},
   "source": [
    "We invented one function for running a particular agent and plotting the cumulative rewards:"
   ]
  },
  {
   "cell_type": "code",
   "execution_count": 9,
   "metadata": {},
   "outputs": [],
   "source": [
    "def runAgent():\n",
    "\t# reset environment and agent\n",
    "\tobs = env.reset()\n",
    "\treward = None\n",
    "\tdone = False\n",
    "\tR = []\n",
    "\tcum_R = []\n",
    "\tfor step in range(n_iter):\n",
    "\t\tenv.render()\n",
    "\t\taction = agent.act(obs)\n",
    "\t\t# print(\"Action: \" + str(action))\n",
    "\t\t_obs, reward, done, _ = env.step(action)\n",
    "\n",
    "\t\t# no training involved for random agent\n",
    "\t\tagent.train(action, obs, reward, _obs)\n",
    "\t\tobs = _obs\n",
    "\t\tR.append(reward)\n",
    "\n",
    "\tfor r in range(len(R)):\n",
    "\t\tcum_R.append(sum(R[:r]))\n",
    "\n",
    "\tplt.plot(cum_R)\n",
    "\tplt.xlabel(\"time\")\n",
    "\tplt.ylabel(\"Cumulative Reward\")\n",
    "\tplt.show()"
   ]
  },
  {
   "cell_type": "markdown",
   "metadata": {},
   "source": [
    "We ran our agents with the following parameters:"
   ]
  },
  {
   "cell_type": "code",
   "execution_count": 10,
   "metadata": {},
   "outputs": [],
   "source": [
    "# Number of iterations\n",
    "n_iter = 1000\n",
    "\n",
    "# environment specs\n",
    "env = EvidenceEnv(n=2, p=0.75)"
   ]
  },
  {
   "cell_type": "markdown",
   "metadata": {},
   "source": [
    "### Exercise 1:\n",
    "For the first exercise we had to run the RandomAgent and plot its cumulative gain:"
   ]
  },
  {
   "cell_type": "code",
   "execution_count": 11,
   "metadata": {},
   "outputs": [],
   "source": [
    "class RandomAgent(object):\n",
    "    def __init__(self, env):\n",
    "        \"\"\"\n",
    "        Args:\n",
    "        env: an environment\n",
    "        \"\"\"\n",
    "\n",
    "        self.env = env\n",
    "\n",
    "    def act(self, observation):\n",
    "        \"\"\"\n",
    "        Act based on observation and train agent on cumulated reward (return)\n",
    "        :param observation: new observation\n",
    "        :param reward: reward gained from previous action; None indicates no reward because of initial state\n",
    "        :return: action (Variable)\n",
    "        \"\"\"\n",
    "\n",
    "        return np.random.choice(self.env.n_action)\n",
    "\n",
    "    def train(self, a, old_obs, r, new_obs):\n",
    "        \"\"\"\n",
    "        :param a: action\n",
    "        :param old_obs: old observation\n",
    "        :param r: reward\n",
    "        :param new_obs: new observation\n",
    "        :return:\n",
    "        \"\"\"\n",
    "\n",
    "        pass"
   ]
  },
  {
   "cell_type": "code",
   "execution_count": 13,
   "metadata": {},
   "outputs": [
    {
     "data": {
      "image/png": "[encoded data removed]",
      "text/plain": [
       "<matplotlib.figure.Figure at 0x1975eaefdd8>"
      ]
     },
     "metadata": {},
     "output_type": "display_data"
    }
   ],
   "source": [
    "agent = RandomAgent(env)\n",
    "runAgent()"
   ]
  },
  {
   "cell_type": "markdown",
   "metadata": {},
   "source": [
    "As we can see and expected, the random agent does not work well."
   ]
  },
  {
   "cell_type": "markdown",
   "metadata": {
    "collapsed": true
   },
   "source": [
    "### Exercise 2:\n",
    "For the second exercise we had to implement Tabular Q-Learning:"
   ]
  },
  {
   "cell_type": "code",
   "execution_count": 14,
   "metadata": {},
   "outputs": [],
   "source": [
    "class TabularQAgent(object):\n",
    "    def __init__(self, env, alpha=0.1, gamma=0.3):\n",
    "        \"\"\"\n",
    "        Args:\n",
    "            env: an environment\n",
    "        \"\"\"\n",
    "\n",
    "        self.env = env\n",
    "        self.Q = np.zeros((env.n_action**env.n_input, env.n_action)).astype(np.float32)\n",
    "        self.alpha = alpha\n",
    "        self.gamma = gamma\n",
    "\n",
    "    def act(self, observation):\n",
    "        \"\"\"\n",
    "        Act based on observation and train agent on accumulated reward (return)\n",
    "        :param observation: new observation\n",
    "        :param reward: reward gained from previous action; None indicates no reward because of initial state\n",
    "        :return: action (Variable)\n",
    "        \"\"\"\n",
    "        return 0 if self.Q[self.env.asint(observation), 0] > self.Q[self.env.asint(observation), 1] else 1\n",
    "\n",
    "    def train(self, a, old_obs, r, new_obs):\n",
    "        \"\"\"\n",
    "        :param a: action\n",
    "        :param old_obs: old observation\n",
    "        :param r: reward\n",
    "        :param new_obs: new observation\n",
    "        :return:\n",
    "        \"\"\"\n",
    "        old_obs = self.env.asint(old_obs)\n",
    "        new_obs = self.env.asint(new_obs)\n",
    "\n",
    "        max_Q = self.Q[new_obs, np.argmax(self.Q[new_obs, :])]\n",
    "\n",
    "        self.Q[old_obs, a] = (1-self.alpha)*self.Q[old_obs, a] + self.alpha*(r + self.gamma*max_Q)"
   ]
  },
  {
   "cell_type": "markdown",
   "metadata": {},
   "source": [
    "To plot the Q-values we designed the following function:"
   ]
  },
  {
   "cell_type": "code",
   "execution_count": 15,
   "metadata": {},
   "outputs": [],
   "source": [
    "def plotQ(Q):\n",
    "\tstates = [[0, 0], [0, 1], [1, 0], [1, 1]]\n",
    "\tfor state in states:\n",
    "\t\tfor a in [0, 1]:\n",
    "\t\t\tprint(\"Q[{},{}]={}\".format(state, a, Q[env.asint(state), a]))"
   ]
  },
  {
   "cell_type": "markdown",
   "metadata": {},
   "source": [
    "The Q-Values before training are:"
   ]
  },
  {
   "cell_type": "code",
   "execution_count": 17,
   "metadata": {},
   "outputs": [
    {
     "name": "stdout",
     "output_type": "stream",
     "text": [
      "Q[[0, 0],0]=0.0\n",
      "Q[[0, 0],1]=0.0\n",
      "Q[[0, 1],0]=0.0\n",
      "Q[[0, 1],1]=0.0\n",
      "Q[[1, 0],0]=0.0\n",
      "Q[[1, 0],1]=0.0\n",
      "Q[[1, 1],0]=0.0\n",
      "Q[[1, 1],1]=0.0\n"
     ]
    }
   ],
   "source": [
    "agent = TabularQAgent(env)\n",
    "plotQ(agent.Q)"
   ]
  },
  {
   "cell_type": "markdown",
   "metadata": {},
   "source": [
    "Now we run the agent and plot the cumulative reward and the Q-values after training:"
   ]
  },
  {
   "cell_type": "code",
   "execution_count": 18,
   "metadata": {},
   "outputs": [
    {
     "data": {
      "image/png": "[encoded data removed]",
      "text/plain": [
       "<matplotlib.figure.Figure at 0x1975e00c160>"
      ]
     },
     "metadata": {},
     "output_type": "display_data"
    },
    {
     "name": "stdout",
     "output_type": "stream",
     "text": [
      "Q[[0, 0],0]=1.2086585760116577\n",
      "Q[[0, 0],1]=-0.10021000355482101\n",
      "Q[[0, 1],0]=-0.26689931750297546\n",
      "Q[[0, 1],1]=0.17511846125125885\n",
      "Q[[1, 0],0]=0.0794326588511467\n",
      "Q[[1, 0],1]=-0.1639588475227356\n",
      "Q[[1, 1],0]=0.0\n",
      "Q[[1, 1],1]=0.909468412399292\n"
     ]
    }
   ],
   "source": [
    "runAgent()\n",
    "plotQ(agent.Q)"
   ]
  },
  {
   "cell_type": "markdown",
   "metadata": {},
   "source": [
    "### Exercise 3\n",
    "Ideally we will want to get rid of the tabular representation because it is (for most real reinforcement learning domains) infeasible to have a Q-value for every possible state. As some might even not be visited because the likelihood of their occurance is low. Also because you would need a lot of occurances to make these Q-values accurate.\n",
    "\n",
    "For this exercise we use the following network and regressor:"
   ]
  },
  {
   "cell_type": "code",
   "execution_count": 19,
   "metadata": {},
   "outputs": [],
   "source": [
    "class MLP(Chain):\n",
    "    \"\"\"\n",
    "        Neural Network Definition, Multilayer Perceptron\n",
    "        l1: fully connected hidden layer\n",
    "        l2: output layer\n",
    "    \"\"\"\n",
    "    def __init__(self, n_hidden, n_action):\n",
    "        super(MLP, self).__init__()\n",
    "        with self.init_scope():\n",
    "            self.l1 = L.Linear(None, n_hidden)   # input layer -> hidden layer\n",
    "            self.l2 = L.Linear(None, n_action)  # hidden layer -> output layer\n",
    "\n",
    "    def __call__(self, observation):\n",
    "        \"\"\"\n",
    "        Feed the data in a forward fashion through the MLP\n",
    "        :param x: Data\n",
    "        :return: Last Link of the MLP\n",
    "        \"\"\"\n",
    "        layer_hidden = F.relu(self.l1(np.array([observation])))\n",
    "        layer_output = self.l2(layer_hidden)\n",
    "        return layer_output"
   ]
  },
  {
   "cell_type": "code",
   "execution_count": 20,
   "metadata": {},
   "outputs": [],
   "source": [
    "class Regressor(Chain):\n",
    "\t\"\"\"\n",
    "\tGeneral implementation of a Regressor class\n",
    "\t\"\"\"\n",
    "\n",
    "\tcompute_accuracy = False\n",
    "\n",
    "\tdef __init__(self, predictor, lossfun, accfun):\n",
    "\t\t\"\"\"\n",
    "\t\t:param predictor: Chain that predicts output given input; the network\n",
    "\t\t:param lossfun: loss function\n",
    "\t\t:param accfun: accuracy function\n",
    "\t\t\"\"\"\n",
    "\t\tsuper(Regressor, self).__init__()\n",
    "\t\tself.lossfun = lossfun\n",
    "\t\tself.accfun = accfun\n",
    "\t\tself.y = None\n",
    "\t\tself.loss = None\n",
    "\t\tself.accuracy = None\n",
    "\n",
    "\t\twith self.init_scope():\n",
    "\t\t\tself.predictor = predictor\n",
    "\n",
    "\tdef __call__(self, x, t):\n",
    "\t\tself.y = None\n",
    "\t\tself.loss = None\n",
    "\t\tself.accuracy = None\n",
    "\t\tself.y = self.predictor(x)\n",
    "\t\tself.loss = self.lossfun(self.y, t)\n",
    "\t\treporter.report({'loss': self.loss}, self)\n",
    "\t\tif self.compute_accuracy:\n",
    "\t\t\tself.accuracy = self.accfun(self.y, t)\n",
    "\t\t\treporter.report({'accuracy': self.accuracy}, self)\n",
    "\t\treturn self.loss"
   ]
  },
  {
   "cell_type": "markdown",
   "metadata": {},
   "source": [
    "The agent we used was as follows:"
   ]
  },
  {
   "cell_type": "code",
   "execution_count": 21,
   "metadata": {},
   "outputs": [],
   "source": [
    "class NeuralAgent(object):\n",
    "    def __init__(self, env, actualQ):\n",
    "        \"\"\"\n",
    "        Args:\n",
    "        env: an environment\n",
    "        \"\"\"\n",
    "        n_hidden = 10\n",
    "\n",
    "        self.MLP = MLP(n_hidden, env.n_action)\n",
    "        self.model = Regressor(self.MLP, lossfun=self.compute_loss, accfun=None)\n",
    "        self.env = env\n",
    "        self.Q = np.zeros((env.n_action ** env.n_input, env.n_action)).astype(np.float32)\n",
    "        self.actualQ = actualQ\n",
    "\n",
    "        self.optimizer = optimizers.SGD()\n",
    "        self.optimizer.setup(self.model)\n",
    "\n",
    "    def compute_loss(self, y, t):\n",
    "        \"\"\"\n",
    "        We define the loss as the sum of the squared error between the actual and predicted Q values\n",
    "        :param y: predicted Q-values\n",
    "        :param t: actual Q-values\n",
    "        :return: loss\n",
    "        \"\"\"\n",
    "        return sum(np.square(np.subtract(y, t)))\n",
    "\n",
    "    def act(self, observation):\n",
    "        \"\"\"\n",
    "        Act based on observation and train agent on cumulated reward (return)\n",
    "        :param observation: new observation\n",
    "        :param reward: reward gained from previous action; None indicates no reward because of initial state\n",
    "        :return: action\n",
    "        \"\"\"\n",
    "        x = self.model.predictor(observation).data\n",
    "        action = np.argmax(x)\n",
    "\n",
    "        return action\n",
    "\n",
    "    def train(self, a, old_obs, r, new_obs):\n",
    "        \"\"\"\n",
    "        :param a: action\n",
    "        :param old_obs: old observation\n",
    "        :param r: reward\n",
    "        :param new_obs: new observation\n",
    "        :return:\n",
    "        \"\"\"\n",
    "\n",
    "        newQ = self.model.predictor(old_obs).data\n",
    "\n",
    "        _old_obs = self.env.asint(old_obs)\n",
    "        self.Q[_old_obs, 0] = newQ[0, 0]\n",
    "        self.Q[_old_obs, 1] = newQ[0, 1]\n",
    "\n",
    "        self.optimizer.update(self.model.lossfun, self.Q[_old_obs, :], self.actualQ[_old_obs, :])"
   ]
  },
  {
   "cell_type": "markdown",
   "metadata": {},
   "source": [
    "For running the agent, we take the Q-values as they were calculated by the TabularQAgent. As before, the Q-values before training are:"
   ]
  },
  {
   "cell_type": "code",
   "execution_count": 28,
   "metadata": {},
   "outputs": [
    {
     "name": "stdout",
     "output_type": "stream",
     "text": [
      "Q[[0, 0],0]=0.0\n",
      "Q[[0, 0],1]=0.0\n",
      "Q[[0, 1],0]=0.0\n",
      "Q[[0, 1],1]=0.0\n",
      "Q[[1, 0],0]=0.0\n",
      "Q[[1, 0],1]=0.0\n",
      "Q[[1, 1],0]=0.0\n",
      "Q[[1, 1],1]=0.0\n"
     ]
    }
   ],
   "source": [
    "actualQ = agent.Q\n",
    "agent = NeuralAgent(env, actualQ)\n",
    "plotQ(agent.Q)"
   ]
  },
  {
   "cell_type": "markdown",
   "metadata": {},
   "source": [
    "Running the agent yields the following cumulative reward and Q-Values:"
   ]
  },
  {
   "cell_type": "code",
   "execution_count": 22,
   "metadata": {},
   "outputs": [
    {
     "data": {
      "image/png": "[encoded data removed]",
      "text/plain": [
       "<matplotlib.figure.Figure at 0x1975fc0e5c0>"
      ]
     },
     "metadata": {},
     "output_type": "display_data"
    },
    {
     "name": "stdout",
     "output_type": "stream",
     "text": [
      "Q[[0, 0],0]=1.1593983173370361\n",
      "Q[[0, 0],1]=-0.10021000355482101\n",
      "Q[[0, 1],0]=-0.26689931750297546\n",
      "Q[[0, 1],1]=0.5461020469665527\n",
      "Q[[1, 0],0]=0.4309551417827606\n",
      "Q[[1, 0],1]=-0.2958475947380066\n",
      "Q[[1, 1],0]=0.0\n",
      "Q[[1, 1],1]=0.8064603209495544\n"
     ]
    }
   ],
   "source": [
    "runAgent()\n",
    "plotQ(agent.Q)"
   ]
  },
  {
   "cell_type": "markdown",
   "metadata": {},
   "source": [
    "As we can see, the NeuralQAgent does fairly well, just as the TabularQAgent.\n",
    "\n",
    "If we would want to deal with past influences we would need to use a Recurrent Neural Network. Where we would reset the states after a game was over.\n",
    "\n",
    "If we would have continuous actions, rather than discrete actions, we should use a regression class instead of a classification class."
   ]
  }
 ],
 "metadata": {
  "kernelspec": {
   "display_name": "Python 3",
   "language": "python",
   "name": "python3"
  },
  "language_info": {
   "codemirror_mode": {
    "name": "ipython",
    "version": 3
   },
   "file_extension": ".py",
   "mimetype": "text/x-python",
   "name": "python",
   "nbconvert_exporter": "python",
   "pygments_lexer": "ipython3",
   "version": "3.5.2"
  }
 },
 "nbformat": 4,
 "nbformat_minor": 2
}
