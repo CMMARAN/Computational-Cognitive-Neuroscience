{
 "cells": [
  {
   "cell_type": "markdown",
   "metadata": {},
   "source": [
    "# Practical Assignment 1"
   ]
  },
  {
   "cell_type": "markdown",
   "metadata": {},
   "source": []
  },
  {
   "cell_type": "markdown",
   "metadata": {},
   "source": [
    "We'll start by importing the necessary dependancies and setup the parameters for training:"
   ]
  },
  {
   "cell_type": "code",
   "execution_count": 56,
   "metadata": {},
   "outputs": [],
   "source": [
    "%matplotlib inline\n",
    "import utils\n",
    "from chainer import optimizers\n",
    "from MLP import MLP\n",
    "import chainer\n",
    "from Classifier import Classifier\n",
    "from chainer import Chain\n",
    "import chainer.functions as F\n",
    "import chainer.links as L\n",
    "import matplotlib.pyplot as plt\n",
    "\n",
    "n_hidden = 10\n",
    "n_output = 10\n",
    "n_epochs = 20\n",
    "batch_size = 32\n",
    "\n",
    "train_loss_list = []\n",
    "test_loss_list = []"
   ]
  },
  {
   "cell_type": "markdown",
   "metadata": {},
   "source": [
    "We will train the network using batches, these are retrieved from the dataset using the iterator that was supplied through Blackboard"
   ]
  },
  {
   "cell_type": "code",
   "execution_count": 57,
   "metadata": {},
   "outputs": [],
   "source": [
    "# Import whole dataset\n",
    "train, test = chainer.datasets.get_mnist()\n",
    "train_iter = utils.RandomIterator(train, batch_size)\n",
    "test_iter = utils.RandomIterator(test, batch_size)"
   ]
  },
  {
   "cell_type": "markdown",
   "metadata": {},
   "source": [
    "The model that was used is a Multilayer Percepton Network (MLP) with one hidden layer:"
   ]
  },
  {
   "cell_type": "code",
   "execution_count": 58,
   "metadata": {
    "collapsed": true
   },
   "outputs": [],
   "source": [
    "class MLP(Chain):\n",
    "    \"\"\"\n",
    "        Neural Network Definition, Multilayer Perceptron\n",
    "        l1: fully connected hidden layer\n",
    "        l2: output layer\n",
    "    \"\"\"\n",
    "    def __init__(self, n_hidden, n_classes):\n",
    "        super(MLP, self).__init__()\n",
    "        with self.init_scope():\n",
    "            self.l1 = L.Linear(None, n_hidden)   # input layer -> hidden layer\n",
    "            self.l2 = L.Linear(None, n_classes)  # hidden layer -> output layer\n",
    "\n",
    "    def __call__(self, x):\n",
    "        \"\"\"\n",
    "        Feed the data in a forward fashion through the MLP\n",
    "        :param x: Data\n",
    "        :return: Last Link of the MLP\n",
    "        \"\"\"\n",
    "        layer_hidden = F.relu(self.l1(x))\n",
    "        layer_output = self.l2(layer_hidden)\n",
    "        return layer_output\n"
   ]
  },
  {
   "cell_type": "markdown",
   "metadata": {},
   "source": [
    "For classification we implemented our own Classifier that utilizes the _softmax cross entropy_ as the loss function:"
   ]
  },
  {
   "cell_type": "code",
   "execution_count": 59,
   "metadata": {
    "collapsed": true
   },
   "outputs": [],
   "source": [
    "class Classifier(Chain):\n",
    "    def __init__(self, predictor):\n",
    "        super(Classifier, self).__init__()\n",
    "        with self.init_scope():\n",
    "            self.predictor = predictor\n",
    "\n",
    "    def __call__(self, data, labels):\n",
    "        y = self.predictor(data)\n",
    "        self.loss = F.softmax_cross_entropy(y, labels)\n",
    "        self.accuracy = F.accuracy(y, labels)\n",
    "        return self.loss"
   ]
  },
  {
   "cell_type": "markdown",
   "metadata": {},
   "source": [
    "This results in the following model where we uses Stochastic Gradient Descend as the optimizer for updating the model:"
   ]
  },
  {
   "cell_type": "code",
   "execution_count": 60,
   "metadata": {
    "collapsed": true
   },
   "outputs": [],
   "source": [
    "model = Classifier(MLP(n_hidden, n_output))\n",
    "optimizer = optimizers.SGD()\n",
    "optimizer.setup(model)"
   ]
  },
  {
   "cell_type": "markdown",
   "metadata": {},
   "source": [
    "A function was then used to feed the data through the network, a parameter _update_ indicates if the model should update its parameters or just use the model for classification:"
   ]
  },
  {
   "cell_type": "code",
   "execution_count": 61,
   "metadata": {
    "collapsed": true
   },
   "outputs": [],
   "source": [
    "def feed_data(random_iter, update):\n",
    "    \"\"\"\n",
    "    Feeds the network data\n",
    "    :param random_iter: Iterator that holds the data\n",
    "    :param update: Boolean whether to update the model parameters\n",
    "    :return: loss and accuracy\n",
    "    \"\"\"\n",
    "    total_loss = 0\n",
    "    total_accuracy = 0\n",
    "\n",
    "    for data in random_iter:\n",
    "        x = data[0]\n",
    "        labels = data[1]\n",
    "        if update:\n",
    "            optimizer.update(model, x, labels)\n",
    "        else:\n",
    "            model(x, labels)\n",
    "        total_loss += float(model.loss.data)\n",
    "        total_accuracy += float(model.accuracy.data)\n",
    "    return total_loss / random_iter.idx, total_accuracy / random_iter.idx\n"
   ]
  },
  {
   "cell_type": "markdown",
   "metadata": {},
   "source": [
    "The main function is _run_ which trains and tests the model, giving verbose output after each epoch which reports the accuracy and loss after each epoch:"
   ]
  },
  {
   "cell_type": "code",
   "execution_count": 62,
   "metadata": {
    "collapsed": true
   },
   "outputs": [],
   "source": [
    "def run():\n",
    "    \"\"\"\n",
    "    Trains the MLP network for n_epochs.\n",
    "    One epoch contains of a training phase and testing phase. Afterwards, the results are printed to the screen\n",
    "    \"\"\"\n",
    "    for epoch in range(n_epochs):\n",
    "        train_loss, train_accuracy = feed_data(train_iter, True)\n",
    "        test_loss, test_accuracy = feed_data(test_iter, False)\n",
    "\n",
    "        train_loss_list.append(train_loss)\n",
    "        test_loss_list.append(test_loss)\n",
    "        print('Epoch {} \\n'\n",
    "              'Training: accuracy: {} \\t loss: {} \\n'\n",
    "              'Testing: accuracy: {} \\t loss: {}'.format(epoch + 1,\n",
    "                                                         train_accuracy, train_loss,\n",
    "                                                         test_accuracy, test_loss))\n"
   ]
  },
  {
   "cell_type": "markdown",
   "metadata": {},
   "source": [
    "Finally we run the function and plot the training and test loss as a function of epochs:"
   ]
  },
  {
   "cell_type": "code",
   "execution_count": 63,
   "metadata": {},
   "outputs": [
    {
     "name": "stdout",
     "output_type": "stream",
     "text": [
      "Epoch 1 \n",
      "Training: accuracy: 0.75665 \t loss: 0.879573255721728 \n",
      "Testing: accuracy: 0.8788060897435898 \t loss: 0.45016048858181024\n",
      "Epoch 2 \n",
      "Training: accuracy: 0.8852166666666667 \t loss: 0.41249142762819924 \n",
      "Testing: accuracy: 0.8977363782051282 \t loss: 0.35839836330463487\n",
      "Epoch 3 \n",
      "Training: accuracy: 0.89895 \t loss: 0.3551220466931661 \n",
      "Testing: accuracy: 0.9061498397435898 \t loss: 0.32616848914095986\n",
      "Epoch 4 \n",
      "Training: accuracy: 0.9072666666666667 \t loss: 0.3277586152712504 \n",
      "Testing: accuracy: 0.9129607371794872 \t loss: 0.305908190110364\n",
      "Epoch 5 \n",
      "Training: accuracy: 0.9114666666666666 \t loss: 0.31024987579981483 \n",
      "Testing: accuracy: 0.9177684294871795 \t loss: 0.2918626545713498\n",
      "Epoch 6 \n",
      "Training: accuracy: 0.9148333333333334 \t loss: 0.2983129698038101 \n",
      "Testing: accuracy: 0.9189703525641025 \t loss: 0.2861500293111954\n",
      "Epoch 7 \n",
      "Training: accuracy: 0.91795 \t loss: 0.28897483872175217 \n",
      "Testing: accuracy: 0.9213741987179487 \t loss: 0.2775839197043425\n",
      "Epoch 8 \n",
      "Training: accuracy: 0.9208833333333334 \t loss: 0.281777599811554 \n",
      "Testing: accuracy: 0.9232772435897436 \t loss: 0.273296583037919\n",
      "Epoch 9 \n",
      "Training: accuracy: 0.9216666666666666 \t loss: 0.276033617357413 \n",
      "Testing: accuracy: 0.9246794871794872 \t loss: 0.27108550277084875\n",
      "Epoch 10 \n",
      "Training: accuracy: 0.9242 \t loss: 0.27079692546129225 \n",
      "Testing: accuracy: 0.9240785256410257 \t loss: 0.2647011244478516\n",
      "Epoch 11 \n",
      "Training: accuracy: 0.9248333333333333 \t loss: 0.26639151430130004 \n",
      "Testing: accuracy: 0.9255809294871795 \t loss: 0.2632309929587138\n",
      "Epoch 12 \n",
      "Training: accuracy: 0.9266666666666666 \t loss: 0.26235375585953397 \n",
      "Testing: accuracy: 0.9261818910256411 \t loss: 0.2609461252935804\n",
      "Epoch 13 \n",
      "Training: accuracy: 0.9274333333333333 \t loss: 0.2584762539347013 \n",
      "Testing: accuracy: 0.9277844551282052 \t loss: 0.25804325186002713\n",
      "Epoch 14 \n",
      "Training: accuracy: 0.9283666666666667 \t loss: 0.2550622188369433 \n",
      "Testing: accuracy: 0.9273838141025641 \t loss: 0.25646270976330227\n",
      "Epoch 15 \n",
      "Training: accuracy: 0.9295 \t loss: 0.2515830180168152 \n",
      "Testing: accuracy: 0.9286858974358975 \t loss: 0.25472071518500644\n",
      "Epoch 16 \n",
      "Training: accuracy: 0.9306333333333333 \t loss: 0.24892677758137385 \n",
      "Testing: accuracy: 0.9303886217948718 \t loss: 0.25067311372512424\n",
      "Epoch 17 \n",
      "Training: accuracy: 0.93085 \t loss: 0.24602896653811138 \n",
      "Testing: accuracy: 0.9298878205128205 \t loss: 0.2511404255548349\n",
      "Epoch 18 \n",
      "Training: accuracy: 0.9320333333333334 \t loss: 0.24353909975290297 \n",
      "Testing: accuracy: 0.9307892628205128 \t loss: 0.2482295403113732\n",
      "Epoch 19 \n",
      "Training: accuracy: 0.9327833333333333 \t loss: 0.24055148843924204 \n",
      "Testing: accuracy: 0.9321915064102564 \t loss: 0.2459367910065712\n",
      "Epoch 20 \n",
      "Training: accuracy: 0.9333 \t loss: 0.23848125383059185 \n",
      "Testing: accuracy: 0.9314903846153846 \t loss: 0.2452988933580808\n"
     ]
    }
   ],
   "source": [
    "run()"
   ]
  },
  {
   "cell_type": "code",
   "execution_count": 64,
   "metadata": {},
   "outputs": [
    {
     "data": {
      "image/png": "[encoded data removed]",
      "text/plain": [
       "<matplotlib.figure.Figure at 0x2693f1c04e0>"
      ]
     },
     "metadata": {},
     "output_type": "display_data"
    }
   ],
   "source": [
    "plt.plot(test_loss_list, label='Test Loss')\n",
    "plt.plot(train_loss_list, label='Train Loss')\n",
    "plt.legend()\n",
    "plt.ylabel(\"Loss\")\n",
    "plt.xlabel(\"Epoch\")\n",
    "plt.title(\"Loss as a function of epochs\")\n",
    "plt.show()"
   ]
  },
  {
   "cell_type": "markdown",
   "metadata": {},
   "source": [
    "The loss gradually decreases over epochs as expected. The test loss starts much lower than the training loss, this is because the first testing happened after the first training phase."
   ]
  }
 ],
 "metadata": {
  "kernelspec": {
   "display_name": "Python 3",
   "language": "python",
   "name": "python3"
  },
  "language_info": {
   "codemirror_mode": {
    "name": "ipython",
    "version": 3
   },
   "file_extension": ".py",
   "mimetype": "text/x-python",
   "name": "python",
   "nbconvert_exporter": "python",
   "pygments_lexer": "ipython3",
   "version": "3.6.1"
  }
 },
 "nbformat": 4,
 "nbformat_minor": 2
}
