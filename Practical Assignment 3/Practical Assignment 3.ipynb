{
 "cells": [
  {
   "cell_type": "markdown",
   "metadata": {
    "deletable": true,
    "editable": true
   },
   "source": [
    "# Practical Assignment 3"
   ]
  },
  {
   "cell_type": "markdown",
   "metadata": {
    "deletable": true,
    "editable": true
   },
   "source": [
    "Dennis Verheijden, s4455770 and Joost Besseling, s4756799"
   ]
  },
  {
   "cell_type": "code",
   "execution_count": 3,
   "metadata": {
    "collapsed": true,
    "deletable": true,
    "editable": true
   },
   "outputs": [],
   "source": [
    "from chainer import Chain\n",
    "import chainer.links as L\n",
    "from chainer import link\n",
    "from chainer import reporter\n",
    "from chainer import Variable\n",
    "import numpy as np\n",
    "from chainer import optimizers\n",
    "from chainer.datasets import TupleDataset\n",
    "import pickle\n",
    "import matplotlib.pyplot as plt"
   ]
  },
  {
   "cell_type": "markdown",
   "metadata": {
    "deletable": true,
    "editable": true
   },
   "source": [
    "For Practical assignment 3 we implemented the Recurrent Neural Network as given below:"
   ]
  },
  {
   "cell_type": "code",
   "execution_count": 4,
   "metadata": {
    "collapsed": true,
    "deletable": true,
    "editable": true
   },
   "outputs": [],
   "source": [
    "class RNN(Chain):\n",
    "\tdef __init__(self, n_hidden):\n",
    "\t\tsuper(RNN, self).__init__()\n",
    "\t\twith self.init_scope():\n",
    "\t\t\tself.lstm = L.LSTM(None, n_hidden)  # LSTM layer\n",
    "\t\t\tself.out = L.Linear(n_hidden, 1)  # feed-forward output layer\n",
    "\n",
    "\tdef reset_state(self):\n",
    "\t\tself.lstm.reset_state()\n",
    "\n",
    "\tdef __call__(self, x):\n",
    "\t\t# transform the input 'x' to a compatible input for an LSTM layer\n",
    "\t\tx = Variable(np.array([np.float32([x])]))\n",
    "\n",
    "\t\tl1 = self.lstm(x)\n",
    "\t\ty = self.out(l1)\n",
    "\n",
    "\t\treturn y\n"
   ]
  },
  {
   "cell_type": "markdown",
   "metadata": {
    "deletable": true,
    "editable": true
   },
   "source": [
    "We had to implement a regressor class which could make continuous predictions. We chose to make a general regressor class which takes a loss- and accuracyfunction to respectively computes the loss and accuracy:"
   ]
  },
  {
   "cell_type": "code",
   "execution_count": 5,
   "metadata": {
    "collapsed": true,
    "deletable": true,
    "editable": true
   },
   "outputs": [],
   "source": [
    "class Regressor(Chain):\n",
    "\t\"\"\"\n",
    "\tGeneral implementation of a Regressor class\n",
    "\t\"\"\"\n",
    "\n",
    "\tcompute_accuracy = True\n",
    "\n",
    "\tdef __init__(self, predictor, lossfun, accfun):\n",
    "\t\t\"\"\"\n",
    "\t\t:param predictor: Chain that predicts output given input; the network\n",
    "\t\t:param lossfun: loss function\n",
    "\t\t:param accfun: accuracy function\n",
    "\t\t\"\"\"\n",
    "\t\tsuper(Regressor, self).__init__()\n",
    "\t\tself.lossfun = lossfun\n",
    "\t\tself.accfun = accfun\n",
    "\t\tself.y = None\n",
    "\t\tself.loss = None\n",
    "\t\tself.accuracy = None\n",
    "\n",
    "\t\twith self.init_scope():\n",
    "\t\t\tself.predictor = predictor\n",
    "\n",
    "\tdef __call__(self, x, t):\n",
    "\t\tself.y = None\n",
    "\t\tself.loss = None\n",
    "\t\tself.accuracy = None\n",
    "\t\tself.y = self.predictor(x)\n",
    "\t\tself.loss = self.lossfun(self.y, t)\n",
    "\t\treporter.report({'loss': self.loss}, self)\n",
    "\t\tif self.compute_accuracy:\n",
    "\t\t\tself.accuracy = self.accfun(self.y, t)\n",
    "\t\t\treporter.report({'accuracy': self.accuracy}, self)\n",
    "\t\treturn self.loss\n"
   ]
  },
  {
   "cell_type": "markdown",
   "metadata": {
    "deletable": true,
    "editable": true
   },
   "source": [
    "For the loss function we use the mean-squared error. For the accuracy function we use the following:"
   ]
  },
  {
   "cell_type": "code",
   "execution_count": 7,
   "metadata": {
    "collapsed": true,
    "deletable": true,
    "editable": true
   },
   "outputs": [],
   "source": [
    "def compute_loss(y, t):\n",
    "\t\"\"\"\n",
    "\tWe define the loss as the squared error between the predicted and actual sum\n",
    "\t:param y: predicted sum\n",
    "\t:param t: actual sum\n",
    "\t:return: loss\n",
    "\t\"\"\"\n",
    "\treturn pow(y - t, 2)\n",
    "\n",
    "\n",
    "def compute_accuracy(y, t):\n",
    "\t\"\"\"\n",
    "\tWe define the accuracy as 1 over the distance between the predicted and actual sum\n",
    "\t:param y: predicted sum\n",
    "\t:param t: actual sum\n",
    "\t:return: accuracy\n",
    "\t\"\"\"\n",
    "\treturn 1 / abs(y - t)\n"
   ]
  },
  {
   "cell_type": "markdown",
   "metadata": {
    "deletable": true,
    "editable": true
   },
   "source": [
    "Next, we also had to implement our own iterator that could handle sequential data, as given below:"
   ]
  },
  {
   "cell_type": "code",
   "execution_count": 6,
   "metadata": {
    "collapsed": true,
    "deletable": true,
    "editable": true
   },
   "outputs": [],
   "source": [
    "class StreamingIterator(object):\n",
    "\t\"\"\"\n",
    "    Divides the data into equal sequentions, and shuffles those. \n",
    "    To make sure the order of the individual sequences is preserved.\n",
    "    \n",
    "    Based on the Iterator from assignment 1\n",
    "\t\"\"\"\n",
    "\n",
    "\tdef __init__(self, data, batch_size=20):\n",
    "\t\t\"\"\"\n",
    "\t\tArgs:\n",
    "\t\t\tdata (TupleDataset):\n",
    "\t\t\tbatch_size (int):\n",
    "\n",
    "\t\tReturns:\n",
    "\t\t\tlist of batches consisting of (input, output) pairs\n",
    "\t\t\"\"\"\n",
    "\n",
    "\t\tself.data = data\n",
    "\n",
    "\t\tself.batch_size = batch_size\n",
    "\t\tself.n_batches = len(self.data) // batch_size\n",
    "\n",
    "\tdef __iter__(self):\n",
    "\t\tself.idx = -1\n",
    "\t\tself._order = np.random.permutation(len(self.data))[:(self.n_batches * self.batch_size)]\n",
    "\t\tself._data_ = [self.data[x * self.batch_size:(x + 1) * self.batch_size] for x in range(self.n_batches)]\n",
    "\t\tnp.random.shuffle(self._data_)\n",
    "\n",
    "\t\treturn self\n",
    "\n",
    "\tdef __next__(self):\n",
    "\t\tself.idx += 1\n",
    "\n",
    "\t\tif self.idx == self.n_batches:\n",
    "\t\t\traise StopIteration\n",
    "\n",
    "\t\ti = self.idx\n",
    "\n",
    "\t\treturn self._data_[i]\n",
    "\n",
    "\tdef __len__(self):\n",
    "\t\treturn self.n_batches\n"
   ]
  },
  {
   "cell_type": "markdown",
   "metadata": {
    "deletable": true,
    "editable": true
   },
   "source": [
    "The goal of this assignment was to teach a RNN to correctly sum its inputs. The training and test data is generated by the follwing function, given in the assignment:"
   ]
  },
  {
   "cell_type": "code",
   "execution_count": 12,
   "metadata": {
    "collapsed": true,
    "deletable": true,
    "editable": true
   },
   "outputs": [],
   "source": [
    "def create_data(n=3000):\n",
    "\tX = np.random.rand(n, 1).astype('float32')\n",
    "\tT = np.sum(np.hstack((X[0:-1], X[1:])), axis=1)\n",
    "\tT = np.hstack([0, T[0:]]).astype('float32')\n",
    "\tT = T.reshape([n, 1])\n",
    "\n",
    "\treturn TupleDataset(X, T)\n"
   ]
  },
  {
   "cell_type": "markdown",
   "metadata": {
    "deletable": true,
    "editable": true
   },
   "source": [
    "Since training the networks takes more and more time every assignment, we decided to save our models when they are trained. Such that they can be reused when needed. This function either retrieves or trains a model and then plots the training and test loss as a function of epochs."
   ]
  },
  {
   "cell_type": "code",
   "execution_count": 9,
   "metadata": {
    "collapsed": true,
    "deletable": true,
    "editable": true
   },
   "outputs": [],
   "source": [
    "def get_model(model_name):\n",
    "\t\"\"\"\n",
    "\tLoad the named model if it exists, otherwise train it\n",
    "    After loading the model, plot the training and test loss as a function of epochs\n",
    "\t:param model_name: Name of the model\n",
    "\t:return: Network, Regressor, Optimizer and results\n",
    "\t\"\"\"\n",
    "\ttry:\n",
    "\t\tpickle_in = open(\"{}_rnn.pickle\".format(model_name), 'rb')\n",
    "\t\trnn = pickle.load(pickle_in)\n",
    "\n",
    "\t\tpickle_in = open(\"{}_model.pickle\".format(model_name), 'rb')\n",
    "\t\tmodel = pickle.load(pickle_in)\n",
    "\n",
    "\t\tpickle_in = open(\"{}_optimizer.pickle\".format(model_name), 'rb')\n",
    "\t\toptimizer = pickle.load(pickle_in)\n",
    "\n",
    "\t\tpickle_in = open(\"{}_results.pickle\".format(model_name), 'rb')\n",
    "\t\tresults = pickle.load(pickle_in)\n",
    "\n",
    "\t\tprint(\"Model '{}' Loaded!\".format(model_name))\n",
    "\n",
    "\texcept FileNotFoundError:\n",
    "\t\trnn = RNN(n_hidden=hidden_units)\n",
    "\n",
    "\t\tmodel = Regressor(rnn, accfun=compute_accuracy, lossfun=compute_loss)\n",
    "\n",
    "\t\t# Set up the optimizer\n",
    "\t\toptimizer = optimizers.SGD()\n",
    "\t\toptimizer.setup(model)\n",
    "\n",
    "\t\tprint(\"Model not found! Starting training ...\")\n",
    "\t\tresults = train_network(train_iter, rnn, model, optimizer)\n",
    "\n",
    "\t\twith open('{}_rnn.pickle'.format(model_name), 'wb') as f:\n",
    "\t\t\tpickle.dump(rnn, f)\n",
    "\t\twith open('{}_model.pickle'.format(model_name), 'wb') as f:\n",
    "\t\t\tpickle.dump(model, f)\n",
    "\t\twith open('{}_optimizer.pickle'.format(model_name), 'wb') as f:\n",
    "\t\t\tpickle.dump(optimizer, f)\n",
    "\t\twith open('{}_results.pickle'.format(model_name), 'wb') as f:\n",
    "\t\t\tpickle.dump(results, f)\n",
    "\n",
    "\t# Plot the training and test loss as a function of epochs\n",
    "\tplt.plot(results[0], label='train loss')\n",
    "\tplt.plot(results[1], label='test loss')\n",
    "\tplt.legend()\n",
    "\tplt.xlabel(\"epoch\")\n",
    "\tplt.ylabel(\"loss\")\n",
    "\tplt.show()\n",
    "\treturn rnn, model, optimizer, results"
   ]
  },
  {
   "cell_type": "markdown",
   "metadata": {
    "deletable": true,
    "editable": true
   },
   "source": [
    "## Exercise 1"
   ]
  },
  {
   "cell_type": "markdown",
   "metadata": {
    "deletable": true,
    "editable": true
   },
   "source": [
    "We loop through the sequences of data, as returned by the iterator, and train the network.  For each sequence, we first have to reset the state, to forget the input of the last sequence. Then we train on all numbers in this sequence, trying to predict the sum of the previous two numbers.\n",
    "\n",
    "Of course, the first number will give weird results, since the sum of 1 number should be that number. This is not the case because we take random sequences from the generated data, this adds some noice, and by taking long enough sequences  the adverse effects on our RNN will be minimized."
   ]
  },
  {
   "cell_type": "code",
   "execution_count": 10,
   "metadata": {
    "collapsed": true,
    "deletable": true,
    "editable": true
   },
   "outputs": [],
   "source": [
    "def train_network(sample_iter, rnn, model, optimizer):\n",
    "\t\"\"\"\n",
    "\tTrains the network for n_epochs.\n",
    "\tOne epoch contains of a training phase and testing phase.\n",
    "\t:param sample_iter: training data iterator\n",
    "\t:param rnn:\n",
    "\t:param model:\n",
    "\t:param optimizer:\n",
    "\t:return: average test and training loss per epoch\n",
    "\t\"\"\"\n",
    "\ttrain_loss_list = []\n",
    "\ttest_loss_list = []\n",
    "\n",
    "\tfor epoch in range(n_epochs):\n",
    "\t\tprint('Epoch {}'.format(epoch + 1))\n",
    "\t\tcurrent_train_loss = 0\n",
    "\t\tcurrent_test_loss = 0\n",
    "\t\tfor batch in sample_iter:\n",
    "\t\t\trnn.reset_state()  # new batch -> reset states\n",
    "\t\t\ttrain_loss, train_accuracy = feed_data(batch, model, optimizer, True)\n",
    "\t\t\ttest_loss, test_accuracy = feed_data(batch, model, optimizer, False)\n",
    "\n",
    "\t\t\tcurrent_train_loss += train_loss\n",
    "\t\t\tcurrent_test_loss += test_loss\n",
    "\t\t\tprint(\"\\t Training: accuracy: {} \\t loss: {} \\n\\t Testing: accuracy: {} \\t loss: {}\".format(\n",
    "\t\t\t\ttrain_accuracy,\n",
    "\t\t\t\ttrain_loss,\n",
    "\t\t\t\ttest_accuracy,\n",
    "\t\t\t\ttest_loss))\n",
    "\t\ttrain_loss_list.append(current_train_loss / len(sample_iter))\n",
    "\t\ttest_loss_list.append((current_test_loss / len(sample_iter)))\n",
    "\treturn [train_loss_list, test_loss_list]\n"
   ]
  },
  {
   "cell_type": "code",
   "execution_count": 11,
   "metadata": {
    "collapsed": true,
    "deletable": true,
    "editable": true
   },
   "outputs": [],
   "source": [
    "def feed_data(batch, model, optimizer, update):\n",
    "\t\"\"\"\n",
    "\tFeed the data through the network and update the weights if needed\n",
    "\t:param batch: sequential data\n",
    "\t:param model:\n",
    "\t:param optimizer:\n",
    "\t:param update: bool on whether to update the weights\n",
    "\t:return: average loss and accuracy of the batch\n",
    "\t\"\"\"\n",
    "\ttotal_loss = 0\n",
    "\ttotal_accuracy = 0\n",
    "\tfor x, t in batch:\n",
    "\t\tmodel(x, t)\n",
    "\t\tif update:\n",
    "\t\t\toptimizer.update(compute_loss, model.y, t)\n",
    "\t\ttotal_loss += float(model.loss.data)\n",
    "\t\ttotal_accuracy += float(model.accuracy.data)\n",
    "\treturn total_loss / len(batch), total_accuracy / len(batch)\n"
   ]
  },
  {
   "cell_type": "markdown",
   "metadata": {
    "deletable": true,
    "editable": true
   },
   "source": [
    "Now, to train a RNN, we just have to set the required parameters, retrieve our training data and get our model:"
   ]
  },
  {
   "cell_type": "code",
   "execution_count": 13,
   "metadata": {
    "collapsed": false,
    "deletable": true,
    "editable": true
   },
   "outputs": [
    {
     "name": "stdout",
     "output_type": "stream",
     "text": [
      "Model 'n_epochs10_batch_size100_train_size1000_hidden_units30' Loaded!\n"
     ]
    },
    {
     "data": {
      "image/png": "[encoded data removed]",
      "text/plain": [
       "<matplotlib.figure.Figure at 0x2159285e550>"
      ]
     },
     "metadata": {},
     "output_type": "display_data"
    }
   ],
   "source": [
    "\tn_epochs = 10\n",
    "\tbatch_size = 100\n",
    "\ttrain_data_size = 1000\n",
    "\thidden_units = 30\n",
    "\n",
    "\ttrain_data = create_data(n=train_data_size)\n",
    "\n",
    "\ttrain_iter = StreamingIterator(train_data, batch_size=batch_size)\n",
    "\n",
    "\trnn, model, optimizer, results = get_model(\"n_epochs{}_batch_size{}_train_size{}_hidden_units{}\".format(\n",
    "\t\tn_epochs,\n",
    "\t\tbatch_size,\n",
    "\t\ttrain_data_size,\n",
    "\t\thidden_units\n",
    "\t))\n"
   ]
  },
  {
   "cell_type": "markdown",
   "metadata": {},
   "source": [
    "We can see that the loss decreases rapidly, especially during the first epochs. And it is also clear that we didn't reach the lowest loss yet, but training the model takes a long time, so we decided to stop after 10 epochs."
   ]
  },
  {
   "cell_type": "markdown",
   "metadata": {
    "deletable": true,
    "editable": true
   },
   "source": [
    "## Exercise 2"
   ]
  },
  {
   "cell_type": "markdown",
   "metadata": {
    "deletable": true,
    "editable": true
   },
   "source": [
    "For the second exercise we had to generate test data and plot the predicted sum and the actual sum as a function of time. We did this by using the following function:"
   ]
  },
  {
   "cell_type": "code",
   "execution_count": 15,
   "metadata": {
    "collapsed": true,
    "deletable": true,
    "editable": true
   },
   "outputs": [],
   "source": [
    "def test_network(sample_iter):\n",
    "\t\"\"\"\n",
    "\tTest the network by feeding it the sequential data\n",
    "\tPlot the predicted and actual sum per sample\n",
    "\tPlot the difference between the actual and predicted sum\n",
    "\t:param sample_iter: Test iterator object over test samples\n",
    "\t:return:\n",
    "\t\"\"\"\n",
    "\trnn.reset_state()  # reset internal states\n",
    "\tpredicted_sum = []\n",
    "\tactual_sum = []\n",
    "\tfor sample in sample_iter:\n",
    "\t\tfor data in sample:\n",
    "\t\t\tx, t = data\n",
    "\t\t\tmodel(x, t)\n",
    "\t\t\tactual_sum.append(t[0])  # unpack values\n",
    "\t\t\tpredicted_sum.append(model.y.data[0][0])  # unpack values\n",
    "\n",
    "\tplt.plot(predicted_sum, 'ro', label=\"predicted sum\")\n",
    "\tplt.plot(actual_sum, 'go', label=\"actual sum\")\n",
    "\tplt.xlabel(\"sample\")\n",
    "\tplt.ylabel(\"output\")\n",
    "\tplt.legend()\n",
    "\tplt.show()\n",
    "\n",
    "\tdifference = abs(np.subtract(predicted_sum, actual_sum))\n",
    "\tplt.plot(difference)\n",
    "\tplt.xlabel(\"sample\")\n",
    "\tplt.ylabel(\"prediction error\")\n",
    "\tplt.show()\n"
   ]
  },
  {
   "cell_type": "markdown",
   "metadata": {
    "deletable": true,
    "editable": true
   },
   "source": [
    "Now we just have to generate the test data and run the function:"
   ]
  },
  {
   "cell_type": "code",
   "execution_count": 17,
   "metadata": {
    "collapsed": false,
    "deletable": true,
    "editable": true,
    "scrolled": false
   },
   "outputs": [
    {
     "data": {
      "image/png": "[encoded data removed]",
      "text/plain": [
       "<matplotlib.figure.Figure at 0x21592e33550>"
      ]
     },
     "metadata": {},
     "output_type": "display_data"
    },
    {
     "data": {
      "image/png": "[encoded data removed]",
      "text/plain": [
       "<matplotlib.figure.Figure at 0x21592fd4ac8>"
      ]
     },
     "metadata": {},
     "output_type": "display_data"
    }
   ],
   "source": [
    "\ttest_data = create_data(n=100)\n",
    "\ttest_iter = StreamingIterator(test_data, batch_size=len(test_data))\n",
    "\ttest_network(test_iter)\n"
   ]
  },
  {
   "cell_type": "markdown",
   "metadata": {
    "deletable": true,
    "editable": true
   },
   "source": [
    "As can be seen above, the RNN can make accurate predictions about what it should do: sum up it's inputs. As a supporting plot we also plotted the difference between the RNN's prediction and the actual sum. And as can be seen, the predictions are fairly accurate. \n",
    "\n",
    "As we alluded to before, the first prediction is totally of, because there is no data available. It is interesting to note that the network predicts around 1, this is around the mean of the data. So it seems like the best prediction without any information."
   ]
  },
  {
   "cell_type": "code",
   "execution_count": null,
   "metadata": {
    "collapsed": true
   },
   "outputs": [],
   "source": []
  }
 ],
 "metadata": {
  "kernelspec": {
   "display_name": "Python 3",
   "language": "python",
   "name": "python3"
  },
  "language_info": {
   "codemirror_mode": {
    "name": "ipython",
    "version": 3
   },
   "file_extension": ".py",
   "mimetype": "text/x-python",
   "name": "python",
   "nbconvert_exporter": "python",
   "pygments_lexer": "ipython3",
   "version": "3.6.0"
  }
 },
 "nbformat": 4,
 "nbformat_minor": 2
}
